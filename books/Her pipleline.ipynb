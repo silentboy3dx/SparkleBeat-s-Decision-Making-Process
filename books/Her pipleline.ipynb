{
 "cells": [
  {
   "metadata": {},
   "cell_type": "markdown",
   "source": [
    "# The Pipeline - Introduction\n",
    "\n",
    "Lorem ipsum dolor sit amet, consectetur adipiscing elit. Mauris quis feugiat quam, quis auctor enim. Pellentesque quis aliquet purus. Fusce vel enim facilisis sapien cursus interdum. Etiam diam leo, vestibulum finibus neque nec, ultrices sollicitudin eros. Suspendisse hendrerit mollis bibendum. Sed varius non velit eu rhoncus. Nam ac rhoncus metus. Vestibulum pellentesque aliquet laoreet. Ut feugiat faucibus sollicitudin. Morbi porttitor arcu quam, porttitor lacinia massa pellentesque nec. Nulla cursus orci vitae orci elementum, id consectetur ligula imperdiet. Vestibulum at hendrerit arcu. Integer facilisis venenatis aliquet. Donec pellentesque ipsum et facilisis vulputate. Vestibulum ligula lorem, aliquet quis erat sit amet, molestie facilisis felis.\n",
    "\n",
    "\n",
    "## Prerequisites\n",
    "\n",
    "Lets install the required packages.\n",
    "\n",
    "```bash\n",
    "pip install dataclasses-json\n",
    "```\n",
    "\n",
    "## Lets get started\n",
    "\n",
    "The Sparklebeats flow is like a pipeline text comes in from the game and tasks go out as text back into the game. You could think of this process like a pipeline of tasks. Lets have a look at how a task looks like.\n"
   ],
   "id": "6e25b39a5e9c4f52"
  },
  {
   "metadata": {
    "ExecuteTime": {
     "end_time": "2024-06-23T13:17:46.255416Z",
     "start_time": "2024-06-23T13:17:46.251518Z"
    }
   },
   "cell_type": "code",
   "source": [
    "from dataclasses_json import dataclass_json\n",
    "from dataclasses import dataclass, field\n",
    "from datetime import datetime\n",
    "import uuid\n",
    "\n",
    "\n",
    "@dataclass_json\n",
    "@dataclass\n",
    "class Task:\n",
    "    INPUT = \"input\"\n",
    "    OUTPUT = \"output\"\n",
    "    type: str\n",
    "    context: any\n",
    "    is_private_chat: bool\n",
    "    is_group_chat: bool\n",
    "    source: str\n",
    "    when: str = \"\"\n",
    "    response_to: str = \"\"\n",
    "    id: str = field(default_factory=uuid.uuid4)\n",
    "\n",
    "    def __post_init__(self):\n",
    "        self.when = str(datetime.now())\n",
    "\n",
    "    def json(self) -> str:\n",
    "        return self.to_json()\n",
    "\n",
    "    @staticmethod\n",
    "    def input(context, is_private_chat=False, is_group_chat=False, source=None):\n",
    "        return Task(Task.INPUT, context, is_private_chat=is_private_chat, is_group_chat=is_group_chat, source=source)\n",
    "\n",
    "    @staticmethod\n",
    "    def output(context, is_private_chat=False, is_group_chat=False, source=None):\n",
    "        return Task(Task.OUTPUT, context, is_private_chat, is_group_chat, source)\n",
    "\n"
   ],
   "id": "initial_id",
   "outputs": [],
   "execution_count": 3
  },
  {
   "metadata": {},
   "cell_type": "markdown",
   "source": [
    "Lorem ipsum dolor sit amet, consectetur adipiscing elit. Mauris quis feugiat quam, quis auctor enim. Pellentesque quis aliquet purus. Fusce vel enim facilisis sapien cursus interdum. Etiam diam leo, vestibulum finibus neque nec, ultrices sollicitudin eros. Suspendisse hendrerit mollis bibendum. Sed varius non velit eu rhoncus. Nam ac rhoncus metus. Vestibulum pellentesque aliquet laoreet. Ut feugiat faucibus sollicitudin. Morbi porttitor arcu quam, porttitor lacinia massa pellentesque nec. Nulla cursus orci vitae orci elementum, id consectetur ligula imperdiet. Vestibulum at hendrerit arcu. Integer facilisis venenatis aliquet. Donec pellentesque ipsum et facilisis vulputate. Vestibulum ligula lorem, aliquet quis erat sit amet, molestie facilisis felis.\n",
    "\n"
   ],
   "id": "254d17d12ffec9f9"
  },
  {
   "metadata": {},
   "cell_type": "markdown",
   "source": [
    "## The runner\n",
    "\n",
    "Lorem ipsum dolor sit amet, consectetur adipiscing elit. Mauris quis feugiat quam, quis auctor enim. Pellentesque quis aliquet purus. Fusce vel enim facilisis sapien cursus interdum. Etiam diam leo, vestibulum finibus neque nec, ultrices sollicitudin eros. Suspendisse hendrerit mollis bibendum. Sed varius non velit eu rhoncus. Nam ac rhoncus metus. Vestibulum pellentesque aliquet laoreet. Ut feugiat faucibus sollicitudin. Morbi porttitor arcu quam, porttitor lacinia massa pellentesque nec. Nulla cursus orci vitae orci elementum, id consectetur ligula imperdiet. Vestibulum at hendrerit arcu. Integer facilisis venenatis aliquet. Donec pellentesque ipsum et facilisis vulputate. Vestibulum ligula lorem, aliquet quis erat sit amet, molestie facilisis felis.\n"
   ],
   "id": "dfb6f28d0ab91008"
  },
  {
   "metadata": {},
   "cell_type": "markdown",
   "source": "",
   "id": "239b39b972d4b412"
  }
 ],
 "metadata": {
  "kernelspec": {
   "display_name": "Python 3",
   "language": "python",
   "name": "python3"
  },
  "language_info": {
   "codemirror_mode": {
    "name": "ipython",
    "version": 2
   },
   "file_extension": ".py",
   "mimetype": "text/x-python",
   "name": "python",
   "nbconvert_exporter": "python",
   "pygments_lexer": "ipython2",
   "version": "2.7.6"
  }
 },
 "nbformat": 4,
 "nbformat_minor": 5
}
