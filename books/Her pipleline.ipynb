{
 "cells": [
  {
   "metadata": {},
   "cell_type": "markdown",
   "source": [
    "# The Pipeline - Introduction\n",
    "\n",
    "Lorem ipsum dolor sit amet, consectetur adipiscing elit. Mauris quis feugiat quam, quis auctor enim. Pellentesque quis aliquet purus. Fusce vel enim facilisis sapien cursus interdum. Etiam diam leo, vestibulum finibus neque nec, ultrices sollicitudin eros. Suspendisse hendrerit mollis bibendum. Sed varius non velit eu rhoncus. Nam ac rhoncus metus. Vestibulum pellentesque aliquet laoreet. Ut feugiat faucibus sollicitudin. Morbi porttitor arcu quam, porttitor lacinia massa pellentesque nec. Nulla cursus orci vitae orci elementum, id consectetur ligula imperdiet. Vestibulum at hendrerit arcu. Integer facilisis venenatis aliquet. Donec pellentesque ipsum et facilisis vulputate. Vestibulum ligula lorem, aliquet quis erat sit amet, molestie facilisis felis.\n",
    "\n",
    "\n",
    "## Prerequisites\n",
    "\n",
    "Lets install the required packages.\n",
    "\n",
    "```bash\n",
    "pip install dataclasses-json\n",
    "```\n",
    "\n",
    "## Lets get started\n",
    "\n",
    "The Sparklebeats flow is like a pipeline text comes in from the game and tasks go out as text back into the game. You could think of this process like a pipeline of tasks. Lets have a look at how a task looks like.\n"
   ],
   "id": "6e25b39a5e9c4f52"
  },
  {
   "metadata": {
    "ExecuteTime": {
     "end_time": "2024-06-23T13:17:46.255416Z",
     "start_time": "2024-06-23T13:17:46.251518Z"
    }
   },
   "cell_type": "code",
   "source": [
    "from dataclasses_json import dataclass_json\n",
    "from dataclasses import dataclass, field\n",
    "from datetime import datetime\n",
    "import uuid\n",
    "\n",
    "@dataclass_json\n",
    "@dataclass\n",
    "class Task:\n",
    "    INPUT = \"input\"\n",
    "    OUTPUT = \"output\"\n",
    "    type: str\n",
    "    context: any\n",
    "    is_private_chat: bool\n",
    "    is_group_chat: bool\n",
    "    source: str\n",
    "    when: str = \"\"\n",
    "    response_to: str = \"\"\n",
    "    id: str = field(default_factory=uuid.uuid4)\n",
    "\n",
    "    def __post_init__(self):\n",
    "        self.when = str(datetime.now())\n",
    "\n",
    "    def json(self) -> str:\n",
    "        return self.to_json()\n",
    "\n",
    "    @staticmethod\n",
    "    def input(context, is_private_chat=False, is_group_chat=False, source=None):\n",
    "        return Task(Task.INPUT, context, is_private_chat=is_private_chat, is_group_chat=is_group_chat, source=source)\n",
    "\n",
    "    @staticmethod\n",
    "    def output(context, is_private_chat=False, is_group_chat=False, source=None):\n",
    "        return Task(Task.OUTPUT, context, is_private_chat, is_group_chat, source)\n",
    "\n"
   ],
   "id": "initial_id",
   "outputs": [],
   "execution_count": 3
  },
  {
   "metadata": {},
   "cell_type": "markdown",
   "source": [
    "Lorem ipsum dolor sit amet, consectetur adipiscing elit. Mauris quis feugiat quam, quis auctor enim. Pellentesque quis aliquet purus. Fusce vel enim facilisis sapien cursus interdum. Etiam diam leo, vestibulum finibus neque nec, ultrices sollicitudin eros. Suspendisse hendrerit mollis bibendum. Sed varius non velit eu rhoncus. Nam ac rhoncus metus. Vestibulum pellentesque aliquet laoreet. Ut feugiat faucibus sollicitudin. Morbi porttitor arcu quam, porttitor lacinia massa pellentesque nec. Nulla cursus orci vitae orci elementum, id consectetur ligula imperdiet. Vestibulum at hendrerit arcu. Integer facilisis venenatis aliquet. Donec pellentesque ipsum et facilisis vulputate. Vestibulum ligula lorem, aliquet quis erat sit amet, molestie facilisis felis.\n",
    "\n"
   ],
   "id": "254d17d12ffec9f9"
  },
  {
   "metadata": {},
   "cell_type": "code",
   "outputs": [],
   "execution_count": null,
   "source": "# python code here",
   "id": "94476af6a53675db"
  },
  {
   "metadata": {},
   "cell_type": "markdown",
   "source": [
    "## Plugins\n",
    "\n",
    "Lorem ipsum dolor sit amet, consectetur adipiscing elit. Mauris quis feugiat quam, quis auctor enim. Pellentesque quis aliquet purus. Fusce vel enim facilisis sapien cursus interdum. Etiam diam leo, vestibulum finibus neque nec, ultrices sollicitudin eros. Suspendisse hendrerit mollis bibendum. Sed varius non velit eu rhoncus. Nam ac rhoncus metus. Vestibulum pellentesque aliquet laoreet. Ut feugiat faucibus sollicitudin. Morbi porttitor arcu quam, porttitor lacinia massa pellentesque nec. Nulla cursus orci vitae orci elementum, id consectetur ligula imperdiet. Vestibulum at hendrerit arcu. Integer facilisis venenatis aliquet. Donec pellentesque ipsum et facilisis vulputate. Vestibulum ligula lorem, aliquet quis erat sit amet, molestie facilisis felis.\n",
    "\n",
    "I plugin does something in the game its either reading or writng.\n",
    "\n",
    "\n"
   ],
   "id": "73a0223408fe9082"
  },
  {
   "metadata": {},
   "cell_type": "code",
   "outputs": [],
   "execution_count": null,
   "source": [
    "# python code here\n",
    "\n",
    "\n",
    "class ReadInput:\n",
    "\n",
    " \n",
    "    # @timing\n",
    "    def run(self) -> Task or None:\n",
    "        pass\n",
    "    "
   ],
   "id": "db3338ae9072d254"
  },
  {
   "metadata": {},
   "cell_type": "markdown",
   "source": [
    "## Filters\n",
    "\n",
    "Lorem ipsum dolor sit amet, consectetur adipiscing elit. Mauris quis feugiat quam, quis auctor enim. Pellentesque quis aliquet purus. Fusce vel enim facilisis sapien cursus interdum. Etiam diam leo, vestibulum finibus neque nec, ultrices sollicitudin eros. Suspendisse hendrerit mollis bibendum. Sed varius non velit eu rhoncus. Nam ac rhoncus metus. Vestibulum pellentesque aliquet laoreet. Ut feugiat faucibus sollicitudin. Morbi porttitor arcu quam, porttitor lacinia massa pellentesque nec. Nulla cursus orci vitae orci elementum, id consectetur ligula imperdiet. Vestibulum at hendrerit arcu. Integer facilisis venenatis aliquet. Donec pellentesque ipsum et facilisis vulputate. Vestibulum ligula lorem, aliquet quis erat sit amet, molestie facilisis felis.\n",
    "\n"
   ],
   "id": "b1981653fe1a6f6a"
  },
  {
   "metadata": {},
   "cell_type": "code",
   "outputs": [],
   "execution_count": null,
   "source": [
    "class BadWords:\n",
    "\n",
    "    def __init__(self):\n",
    "        self.badwords = [\n",
    "            \"fuck\",\n",
    "            \"shit\",\n",
    "        ]\n",
    "        self.filter_word = \"[filtered]\"\n",
    "\n",
    "    def added(self) -> None:\n",
    "        pass\n",
    "\n",
    "    def filter(self, task: Task) -> Task or None:\n",
    "        \"\"\"\n",
    "        :param task: The Task object to be filtered.\n",
    "        :return: The filtered Task object, or None if no filtering is done.\n",
    "\n",
    "        \"\"\"\n",
    "        content = task.context\n",
    "        for word in self.badwords:\n",
    "            if word in content:\n",
    "                content = content.replace(word, self.filter_word)\n",
    "        return task"
   ],
   "id": "ed8f511a95ace6d1"
  },
  {
   "metadata": {},
   "cell_type": "markdown",
   "source": [
    "## The runner\n",
    "\n",
    "Lorem ipsum dolor sit amet, consectetur adipiscing elit. Mauris quis feugiat quam, quis auctor enim. Pellentesque quis aliquet purus. Fusce vel enim facilisis sapien cursus interdum. Etiam diam leo, vestibulum finibus neque nec, ultrices sollicitudin eros. Suspendisse hendrerit mollis bibendum. Sed varius non velit eu rhoncus. Nam ac rhoncus metus. Vestibulum pellentesque aliquet laoreet. Ut feugiat faucibus sollicitudin. Morbi porttitor arcu quam, porttitor lacinia massa pellentesque nec. Nulla cursus orci vitae orci elementum, id consectetur ligula imperdiet. Vestibulum at hendrerit arcu. Integer facilisis venenatis aliquet. Donec pellentesque ipsum et facilisis vulputate. Vestibulum ligula lorem, aliquet quis erat sit amet, molestie facilisis felis.\n"
   ],
   "id": "dfb6f28d0ab91008"
  },
  {
   "metadata": {
    "ExecuteTime": {
     "end_time": "2024-06-23T13:39:58.757118Z",
     "start_time": "2024-06-23T13:39:58.754947Z"
    }
   },
   "cell_type": "code",
   "source": "# python code here",
   "id": "19ffb17b3b613537",
   "outputs": [],
   "execution_count": 4
  },
  {
   "metadata": {},
   "cell_type": "markdown",
   "source": "",
   "id": "239b39b972d4b412"
  },
  {
   "metadata": {},
   "cell_type": "markdown",
   "source": "## Putting it all together",
   "id": "cdf334eafb860064"
  },
  {
   "metadata": {},
   "cell_type": "code",
   "outputs": [],
   "execution_count": null,
   "source": "# python code here\n",
   "id": "20285f274af8e1dd"
  },
  {
   "metadata": {},
   "cell_type": "markdown",
   "source": [
    "## License\n",
    "\n",
    "MIT License\n",
    "\n",
    "Copyright (c) 2024 Silentboy\n",
    "\n",
    "Permission is hereby granted, free of charge, to any person obtaining a copy\n",
    "of this software and associated documentation files (the \"Software\"), to deal\n",
    "in the Software without restriction, including without limitation the rights\n",
    "to use, copy, modify, merge, publish, distribute, sublicense, and/or sell\n",
    "copies of the Software, and to permit persons to whom the Software is\n",
    "furnished to do so, subject to the following conditions:\n",
    "\n",
    "The above copyright notice and this permission notice shall be included in all\n",
    "copies or substantial portions of the Software.\n",
    "\n",
    "THE SOFTWARE IS PROVIDED \"AS IS\", WITHOUT WARRANTY OF ANY KIND, EXPRESS OR\n",
    "IMPLIED, INCLUDING BUT NOT LIMITED TO THE WARRANTIES OF MERCHANTABILITY,\n",
    "FITNESS FOR A PARTICULAR PURPOSE AND NONINFRINGEMENT. IN NO EVENT SHALL THE\n",
    "AUTHORS OR COPYRIGHT HOLDERS BE LIABLE FOR ANY CLAIM, DAMAGES OR OTHER\n",
    "LIABILITY, WHETHER IN AN ACTION OF CONTRACT, TORT OR OTHERWISE, ARISING FROM,\n",
    "OUT OF OR IN CONNECTION WITH THE SOFTWARE OR THE USE OR OTHER DEALINGS IN THE\n",
    "SOFTWARE."
   ],
   "id": "ac577a14fc77bc21"
  }
 ],
 "metadata": {
  "kernelspec": {
   "display_name": "Python 3",
   "language": "python",
   "name": "python3"
  },
  "language_info": {
   "codemirror_mode": {
    "name": "ipython",
    "version": 2
   },
   "file_extension": ".py",
   "mimetype": "text/x-python",
   "name": "python",
   "nbconvert_exporter": "python",
   "pygments_lexer": "ipython2",
   "version": "2.7.6"
  }
 },
 "nbformat": 4,
 "nbformat_minor": 5
}
