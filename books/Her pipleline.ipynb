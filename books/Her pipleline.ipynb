{
 "cells": [
  {
   "metadata": {},
   "cell_type": "markdown",
   "source": [
    "# The hearth\n",
    "***Before i start this document is still work in progress***\n",
    "\n",
    "\n",
    "## Prerequisites\n",
    "\n",
    "Lets install the required packages.\n",
    "\n",
    "```bash\n",
    "pip install dataclasses-json\n",
    "```\n"
   ],
   "id": "6e25b39a5e9c4f52"
  },
  {
   "metadata": {
    "ExecuteTime": {
     "end_time": "2024-06-23T12:31:57.707354Z",
     "start_time": "2024-06-23T12:31:57.692565Z"
    }
   },
   "cell_type": "code",
   "source": [
    "from dataclasses_json import dataclass_json\n",
    "from dataclasses import dataclass, field\n",
    "from datetime import datetime\n",
    "import uuid\n",
    "\n",
    "\n",
    "@dataclass_json\n",
    "@dataclass\n",
    "class Task:\n",
    "    INPUT = \"input\"\n",
    "    OUTPUT = \"output\"\n",
    "    \n",
    "    type: str\n",
    "    context: any\n",
    "    is_private_chat: bool\n",
    "    is_group_chat: bool\n",
    "    source: str\n",
    "    when: str = \"\"\n",
    "    response_to: str = \"\"\n",
    "    id: str = field(default_factory=uuid.uuid4)\n",
    "\n",
    "    def __post_init__(self):\n",
    "        self.when = str(datetime.now())\n",
    "\n",
    "    def json(self) -> str:\n",
    "        return self.to_json()\n",
    "\n",
    "    @staticmethod\n",
    "    def input(context, is_private_chat=False, is_group_chat=False, source=None):\n",
    "        return Task(Task.INPUT, context, is_private_chat=is_private_chat, is_group_chat=is_group_chat, source=source)\n",
    "\n",
    "    @staticmethod\n",
    "    def output(context, is_private_chat=False, is_group_chat=False, source=None):\n",
    "        return Task(Task.OUTPUT, context, is_private_chat, is_group_chat, source)\n",
    "\n"
   ],
   "id": "initial_id",
   "outputs": [],
   "execution_count": 2
  }
 ],
 "metadata": {
  "kernelspec": {
   "display_name": "Python 3",
   "language": "python",
   "name": "python3"
  },
  "language_info": {
   "codemirror_mode": {
    "name": "ipython",
    "version": 2
   },
   "file_extension": ".py",
   "mimetype": "text/x-python",
   "name": "python",
   "nbconvert_exporter": "python",
   "pygments_lexer": "ipython2",
   "version": "2.7.6"
  }
 },
 "nbformat": 4,
 "nbformat_minor": 5
}
