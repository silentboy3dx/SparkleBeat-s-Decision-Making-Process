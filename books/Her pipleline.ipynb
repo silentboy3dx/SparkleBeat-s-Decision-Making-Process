{
 "cells": [
  {
   "metadata": {},
   "cell_type": "markdown",
   "source": [
    "# The Pipeline - Introduction\n",
    "\n",
    "Lorem ipsum dolor sit amet, consectetur adipiscing elit. Mauris quis feugiat quam, quis auctor enim. Pellentesque quis aliquet purus. Fusce vel enim facilisis sapien cursus interdum. Etiam diam leo, vestibulum finibus neque nec, ultrices sollicitudin eros. Suspendisse hendrerit mollis bibendum. Sed varius non velit eu rhoncus. Nam ac rhoncus metus. Vestibulum pellentesque aliquet laoreet. Ut feugiat faucibus sollicitudin. Morbi porttitor arcu quam, porttitor lacinia massa pellentesque nec. Nulla cursus orci vitae orci elementum, id consectetur ligula imperdiet. Vestibulum at hendrerit arcu. Integer facilisis venenatis aliquet. Donec pellentesque ipsum et facilisis vulputate. Vestibulum ligula lorem, aliquet quis erat sit amet, molestie facilisis felis.\n",
    "\n",
    "\n",
    "## Prerequisites\n",
    "\n",
    "Lets install the required packages.\n",
    "\n",
    "```bash\n",
    "pip install dataclasses-json\n",
    "```\n",
    "\n",
    "## Lets get started\n",
    "\n",
    "The Sparklebeats flow is like a pipeline text comes in from the game and tasks go out as text back into the game. You could think of this process like a pipeline of tasks. Lets have a look at how a task looks like.\n"
   ],
   "id": "6e25b39a5e9c4f52"
  },
  {
   "metadata": {
    "ExecuteTime": {
     "end_time": "2024-06-23T13:17:46.255416Z",
     "start_time": "2024-06-23T13:17:46.251518Z"
    }
   },
   "cell_type": "code",
   "source": [
    "from dataclasses_json import dataclass_json\n",
    "from dataclasses import dataclass, field\n",
    "from datetime import datetime\n",
    "import uuid\n",
    "\n",
    "@dataclass_json\n",
    "@dataclass\n",
    "class Task:\n",
    "    INPUT = \"input\"\n",
    "    OUTPUT = \"output\"\n",
    "    type: str\n",
    "    context: any\n",
    "    is_private_chat: bool\n",
    "    is_group_chat: bool\n",
    "    source: str\n",
    "    when: str = \"\"\n",
    "    response_to: str = \"\"\n",
    "    id: str = field(default_factory=uuid.uuid4)\n",
    "\n",
    "    def __post_init__(self):\n",
    "        self.when = str(datetime.now())\n",
    "\n",
    "    def json(self) -> str:\n",
    "        return self.to_json()\n",
    "\n",
    "    @staticmethod\n",
    "    def input(context, is_private_chat=False, is_group_chat=False, source=None):\n",
    "        return Task(Task.INPUT, context, is_private_chat=is_private_chat, is_group_chat=is_group_chat, source=source)\n",
    "\n",
    "    @staticmethod\n",
    "    def output(context, is_private_chat=False, is_group_chat=False, source=None):\n",
    "        return Task(Task.OUTPUT, context, is_private_chat, is_group_chat, source)\n",
    "\n"
   ],
   "id": "initial_id",
   "outputs": [],
   "execution_count": 3
  },
  {
   "metadata": {},
   "cell_type": "markdown",
   "source": [
    "Lorem ipsum dolor sit amet, consectetur adipiscing elit. Mauris quis feugiat quam, quis auctor enim. Pellentesque quis aliquet purus. Fusce vel enim facilisis sapien cursus interdum. Etiam diam leo, vestibulum finibus neque nec, ultrices sollicitudin eros. Suspendisse hendrerit mollis bibendum. Sed varius non velit eu rhoncus. Nam ac rhoncus metus. Vestibulum pellentesque aliquet laoreet. Ut feugiat faucibus sollicitudin. Morbi porttitor arcu quam, porttitor lacinia massa pellentesque nec. Nulla cursus orci vitae orci elementum, id consectetur ligula imperdiet. Vestibulum at hendrerit arcu. Integer facilisis venenatis aliquet. Donec pellentesque ipsum et facilisis vulputate. Vestibulum ligula lorem, aliquet quis erat sit amet, molestie facilisis felis.\n",
    "\n"
   ],
   "id": "254d17d12ffec9f9"
  },
  {
   "metadata": {},
   "cell_type": "markdown",
   "source": "## A plugin\n",
   "id": "38c1a1a3a8f50a63"
  },
  {
   "metadata": {
    "ExecuteTime": {
     "end_time": "2024-06-23T14:53:44.449896Z",
     "start_time": "2024-06-23T14:53:44.448165Z"
    }
   },
   "cell_type": "code",
   "source": "# Plugin code here",
   "id": "8f96b6a07fd8b3aa",
   "outputs": [],
   "execution_count": 7
  },
  {
   "metadata": {},
   "cell_type": "markdown",
   "source": [
    "# A filter\n",
    "something here"
   ],
   "id": "14d13286784a10fb"
  },
  {
   "metadata": {
    "ExecuteTime": {
     "end_time": "2024-06-23T14:55:26.150123Z",
     "start_time": "2024-06-23T14:55:26.147802Z"
    }
   },
   "cell_type": "code",
   "source": "# filter code hre",
   "id": "484de8a4ba27b280",
   "outputs": [],
   "execution_count": 8
  },
  {
   "metadata": {},
   "cell_type": "markdown",
   "source": "## The plugin manager",
   "id": "f9a233b8b99c58d9"
  },
  {
   "metadata": {
    "ExecuteTime": {
     "end_time": "2024-06-23T14:31:22.065411Z",
     "start_time": "2024-06-23T14:31:22.063404Z"
    }
   },
   "cell_type": "code",
   "source": "# Python code here for the plugin manager",
   "id": "e79ea63eeb75dbef",
   "outputs": [],
   "execution_count": 6
  },
  {
   "metadata": {},
   "cell_type": "markdown",
   "source": "## The filter manager",
   "id": "ec36c4dd596693ad"
  },
  {
   "metadata": {},
   "cell_type": "code",
   "outputs": [],
   "execution_count": null,
   "source": "# Python code here for the filter manager",
   "id": "94476af6a53675db"
  },
  {
   "metadata": {},
   "cell_type": "markdown",
   "source": [
    "## Plugin(s)\n",
    "\n",
    "Lorem ipsum dolor sit amet, consectetur adipiscing elit. Mauris quis feugiat quam, quis auctor enim. Pellentesque quis aliquet purus. Fusce vel enim facilisis sapien cursus interdum. Etiam diam leo, vestibulum finibus neque nec, ultrices sollicitudin eros. Suspendisse hendrerit mollis bibendum. Sed varius non velit eu rhoncus. Nam ac rhoncus metus. Vestibulum pellentesque aliquet laoreet. Ut feugiat faucibus sollicitudin. Morbi porttitor arcu quam, porttitor lacinia massa pellentesque nec. Nulla cursus orci vitae orci elementum, id consectetur ligula imperdiet. Vestibulum at hendrerit arcu. Integer facilisis venenatis aliquet. Donec pellentesque ipsum et facilisis vulputate. Vestibulum ligula lorem, aliquet quis erat sit amet, molestie facilisis felis.\n",
    "\n",
    "I plugin does something in the game its either reading or writng.\n",
    "\n",
    "\n"
   ],
   "id": "73a0223408fe9082"
  },
  {
   "metadata": {},
   "cell_type": "code",
   "outputs": [],
   "execution_count": null,
   "source": [
    "# python code here\n",
    "\n",
    "\n",
    "class ReadInput:\n",
    "\n",
    " \n",
    "    # @timing\n",
    "    def run(self) -> Task or None:\n",
    "        pass\n",
    "    "
   ],
   "id": "db3338ae9072d254"
  },
  {
   "metadata": {},
   "cell_type": "markdown",
   "source": [
    "## Filter(s)\n",
    "\n",
    "Lorem ipsum dolor sit amet, consectetur adipiscing elit. Mauris quis feugiat quam, quis auctor enim. Pellentesque quis aliquet purus. Fusce vel enim facilisis sapien cursus interdum. Etiam diam leo, vestibulum finibus neque nec, ultrices sollicitudin eros. Suspendisse hendrerit mollis bibendum. Sed varius non velit eu rhoncus. Nam ac rhoncus metus. Vestibulum pellentesque aliquet laoreet. Ut feugiat faucibus sollicitudin. Morbi porttitor arcu quam, porttitor lacinia massa pellentesque nec. Nulla cursus orci vitae orci elementum, id consectetur ligula imperdiet. Vestibulum at hendrerit arcu. Integer facilisis venenatis aliquet. Donec pellentesque ipsum et facilisis vulputate. Vestibulum ligula lorem, aliquet quis erat sit amet, molestie facilisis felis.\n",
    "\n"
   ],
   "id": "b1981653fe1a6f6a"
  },
  {
   "metadata": {},
   "cell_type": "code",
   "outputs": [],
   "execution_count": null,
   "source": [
    "class BadWords:\n",
    "\n",
    "    def __init__(self):\n",
    "        self.badwords = [\n",
    "            \"fuck\",\n",
    "            \"shit\",\n",
    "        ]\n",
    "        self.filter_word = \"[filtered]\"\n",
    "\n",
    "    def added(self) -> None:\n",
    "        pass\n",
    "\n",
    "    def filter(self, task: Task) -> Task or None:\n",
    "        \"\"\"\n",
    "        :param task: The Task object to be filtered.\n",
    "        :return: The filtered Task object, or None if no filtering is done.\n",
    "\n",
    "        \"\"\"\n",
    "        content = task.context\n",
    "        for word in self.badwords:\n",
    "            if word in content:\n",
    "                content = content.replace(word, self.filter_word)\n",
    "        return task"
   ],
   "id": "ed8f511a95ace6d1"
  },
  {
   "metadata": {},
   "cell_type": "markdown",
   "source": [
    "## The runner\n",
    "\n",
    "Lorem ipsum dolor sit amet, consectetur adipiscing elit. Mauris quis feugiat quam, quis auctor enim. Pellentesque quis aliquet purus. Fusce vel enim facilisis sapien cursus interdum. Etiam diam leo, vestibulum finibus neque nec, ultrices sollicitudin eros. Suspendisse hendrerit mollis bibendum. Sed varius non velit eu rhoncus. Nam ac rhoncus metus. Vestibulum pellentesque aliquet laoreet. Ut feugiat faucibus sollicitudin. Morbi porttitor arcu quam, porttitor lacinia massa pellentesque nec. Nulla cursus orci vitae orci elementum, id consectetur ligula imperdiet. Vestibulum at hendrerit arcu. Integer facilisis venenatis aliquet. Donec pellentesque ipsum et facilisis vulputate. Vestibulum ligula lorem, aliquet quis erat sit amet, molestie facilisis felis.\n"
   ],
   "id": "dfb6f28d0ab91008"
  },
  {
   "metadata": {
    "ExecuteTime": {
     "end_time": "2024-06-23T14:12:51.582290Z",
     "start_time": "2024-06-23T14:12:51.578327Z"
    }
   },
   "cell_type": "code",
   "source": [
    "from typing import Callable\n",
    "\n",
    "\n",
    "class Runner:\n",
    "\n",
    "    def __init__(self):\n",
    "        self.callbacks = {}\n",
    "\n",
    "        \"\"\"\n",
    "        Setup filters for bot input.\n",
    "        \"\"\"\n",
    "        self.inputFilter = filters.Manager()\n",
    "\n",
    "        \"\"\"\n",
    "        Setup filters for bot output.\n",
    "        \"\"\"\n",
    "        self.outputFilter = filters.Manager()\n",
    "\n",
    "        \"\"\"\n",
    "        Setup the plugins for the bot\n",
    "        \"\"\"\n",
    "        self.plugins = plugins.Manager()\n",
    "\n",
    "    def task(self, task_type: str) -> Callable:\n",
    "        \"\"\"\n",
    "        Registers a callback function for a specific task type.\n",
    "\n",
    "        :param task_type: The type of task to register the callback function for.\n",
    "        :type task_type: str\n",
    "        :return: The callback function that was registered.\n",
    "        :rtype: Callable\n",
    "        \"\"\"\n",
    "        def inner(f):\n",
    "            if type not in self.callbacks:\n",
    "                self.callbacks[task_type] = []\n",
    "\n",
    "            self.callbacks[task_type].append(f)\n",
    "            return f\n",
    "\n",
    "        return inner\n",
    "\n",
    "    def _got_task(self, task: Task) -> None:\n",
    "        \"\"\"\n",
    "        :param task: The task object received from the task queue.\n",
    "        :type task: Task\n",
    "\n",
    "        :return: None\n",
    "        :rtype: None\n",
    "\n",
    "        This method is called when a new task is received from the task queue. It performs the following actions:\n",
    "        - Check if the task's type is registered in the callbacks dictionary.\n",
    "        - If the type is registered, iterate over the callbacks associated with that type and call each callback passing the task object as an argument.\n",
    "        - If the type is not registered, no action is taken.\n",
    "\n",
    "        Note that this method does not return any value.\n",
    "        \"\"\"\n",
    "        if task.type in self.callbacks:\n",
    "            for callback in self.callbacks[task.type]:\n",
    "                callback(task)\n",
    "\n",
    "    def start(self) -> None:\n",
    "        \"\"\"\n",
    "        Run the start method continuously.\n",
    "\n",
    "        :return: None\n",
    "        \"\"\"\n",
    "        while True:\n",
    "            tasks = self.plugins.run()\n",
    "            if len(tasks._items) > 0:\n",
    "                for task in tasks._items:\n",
    "                    if task:\n",
    "                        self._got_task(task)\n",
    "                        self.plugins.remove_task(task)\n",
    "\n"
   ],
   "id": "19ffb17b3b613537",
   "outputs": [],
   "execution_count": 5
  },
  {
   "metadata": {},
   "cell_type": "markdown",
   "source": "",
   "id": "239b39b972d4b412"
  },
  {
   "metadata": {},
   "cell_type": "markdown",
   "source": "## Putting it all together",
   "id": "cdf334eafb860064"
  },
  {
   "metadata": {},
   "cell_type": "code",
   "outputs": [],
   "execution_count": null,
   "source": "# python code here\n",
   "id": "20285f274af8e1dd"
  },
  {
   "metadata": {},
   "cell_type": "markdown",
   "source": [
    "## License\n",
    "\n",
    "MIT License\n",
    "\n",
    "Copyright (c) 2024 Silentboy\n",
    "\n",
    "Permission is hereby granted, free of charge, to any person obtaining a copy\n",
    "of this software and associated documentation files (the \"Software\"), to deal\n",
    "in the Software without restriction, including without limitation the rights\n",
    "to use, copy, modify, merge, publish, distribute, sublicense, and/or sell\n",
    "copies of the Software, and to permit persons to whom the Software is\n",
    "furnished to do so, subject to the following conditions:\n",
    "\n",
    "The above copyright notice and this permission notice shall be included in all\n",
    "copies or substantial portions of the Software.\n",
    "\n",
    "THE SOFTWARE IS PROVIDED \"AS IS\", WITHOUT WARRANTY OF ANY KIND, EXPRESS OR\n",
    "IMPLIED, INCLUDING BUT NOT LIMITED TO THE WARRANTIES OF MERCHANTABILITY,\n",
    "FITNESS FOR A PARTICULAR PURPOSE AND NONINFRINGEMENT. IN NO EVENT SHALL THE\n",
    "AUTHORS OR COPYRIGHT HOLDERS BE LIABLE FOR ANY CLAIM, DAMAGES OR OTHER\n",
    "LIABILITY, WHETHER IN AN ACTION OF CONTRACT, TORT OR OTHERWISE, ARISING FROM,\n",
    "OUT OF OR IN CONNECTION WITH THE SOFTWARE OR THE USE OR OTHER DEALINGS IN THE\n",
    "SOFTWARE."
   ],
   "id": "ac577a14fc77bc21"
  }
 ],
 "metadata": {
  "kernelspec": {
   "display_name": "Python 3",
   "language": "python",
   "name": "python3"
  },
  "language_info": {
   "codemirror_mode": {
    "name": "ipython",
    "version": 2
   },
   "file_extension": ".py",
   "mimetype": "text/x-python",
   "name": "python",
   "nbconvert_exporter": "python",
   "pygments_lexer": "ipython2",
   "version": "2.7.6"
  }
 },
 "nbformat": 4,
 "nbformat_minor": 5
}
